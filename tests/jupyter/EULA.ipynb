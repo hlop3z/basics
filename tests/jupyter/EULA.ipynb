{
 "cells": [
  {
   "cell_type": "code",
   "execution_count": 5,
   "metadata": {},
   "outputs": [],
   "source": [
    "def eula(app=\"My App\", company=\"Ablaze\", country=\"United States\"):\n",
    "    return f\"\"\"End-User License Agreement (EULA) of { app }\n",
    "\n",
    "This End-User License Agreement (\"EULA\") is a legal agreement between you and { company }\n",
    "\n",
    "This EULA agreement governs your acquisition and use of our { app } software (\"Software\") directly from { company } or indirectly through a { company } authorized reseller or distributor (a \"Reseller\").\n",
    "\n",
    "Please read this EULA agreement carefully before completing the installation process and using the { app } software. It provides a license to use the { app } software and contains warranty information and liability disclaimers.\n",
    "\n",
    "If you register for a free trial of the { app } software, this EULA agreement will also govern that trial. By clicking \"accept\" or installing and/or using the { app } software, you are confirming your acceptance of the Software and agreeing to become bound by the terms of this EULA agreement.\n",
    "\n",
    "If you are entering into this EULA agreement on behalf of a company or other legal entity, you represent that you have the authority to bind such entity and its affiliates to these terms and conditions. If you do not have such authority or if you do not agree with the terms and conditions of this EULA agreement, do not install or use the Software, and you must not accept this EULA agreement.\n",
    "\n",
    "This EULA agreement shall apply only to the Software supplied by { company } herewith regardless of whether other software is referred to or described herein. The terms also apply to any { company } updates, supplements, Internet-based services, and support services for the Software, unless other terms accompany those items on delivery. If so, those terms apply.\n",
    "\n",
    "\n",
    "License Grant\n",
    "\n",
    "{ company } hereby grants you a single personal, non-transferable, non-exclusive licence to use the { app } software on your devices in accordance with the terms of this EULA agreement.\n",
    "\n",
    "The software is provided \"as is\", without warranty of any kind, express or implied, including but not limited to the warranties of merchantability, fitness for a particular purpose and non-infringement. in no event shall the authors or copyright holders be liable for any claim, damages or other liability, whether in an action of contract, tort or otherwise, arising from, out of or in connection with the software or the use or other dealings in the software.\n",
    "\n",
    "You are permitted to load the { app } software (for example a PC, laptop, mobile or tablet) under your control. You are responsible for ensuring your device meets the minimum requirements of the { app } software.\n",
    "\n",
    "You are not permitted to:\n",
    "\n",
    "    Edit, alter, modify, adapt, translate or otherwise change the whole or any part of the Software nor permit the whole or any part of the Software to be combined with or become incorporated in any other software, nor decompile, disassemble or reverse engineer the Software or attempt to do any such things\n",
    "    Reproduce, copy, distribute, resell or otherwise use the Software for any commercial purpose\n",
    "    Allow any third party to use the Software on behalf of or for the benefit of any third party\n",
    "    Use the Software in any way which breaches any applicable local, national or international law\n",
    "    use the Software for any purpose that { company } considers is a breach of this EULA agreement\n",
    "\n",
    "\n",
    "Intellectual Property and Ownership\n",
    "\n",
    "{ company } shall at all times retain ownership of the Software as originally downloaded by you and all subsequent downloads of the Software by you. The Software (and the copyright, and other intellectual property rights of whatever nature in the Software, including any modifications made thereto) are and shall remain the property of { company }.\n",
    "\n",
    "{ company } reserves the right to grant licences to use the Software to third parties.\n",
    "\n",
    "\n",
    "Termination\n",
    "\n",
    "This EULA agreement is effective from the date you first use the Software and shall continue until terminated. You may terminate it at any time upon written notice to { company }.\n",
    "\n",
    "This EULA will terminate immediately if you fail to comply with any term of this EULA agreement. Upon such termination, the licenses granted by this EULA agreement will immediately terminate and you agree to stop all access and use of the Software. The provisions that by their nature continue and survive will survive any termination of this EULA agreement.\n",
    "\n",
    "\n",
    "Governing Law\n",
    "\n",
    "This EULA agreement, and any dispute arising out of or in connection with this EULA agreement, shall be governed by and construed in accordance with the laws of { country }.\n",
    "\"\"\""
   ]
  },
  {
   "cell_type": "code",
   "execution_count": 7,
   "metadata": {},
   "outputs": [],
   "source": [
    "with open('EULA-Ablaze.txt','w') as f:\n",
    "    f.write( eula(app=\"Amda-M\") )"
   ]
  },
  {
   "cell_type": "code",
   "execution_count": null,
   "metadata": {},
   "outputs": [],
   "source": []
  }
 ],
 "metadata": {
  "kernelspec": {
   "display_name": "Python 3",
   "language": "python",
   "name": "python3"
  },
  "language_info": {
   "codemirror_mode": {
    "name": "ipython",
    "version": 3
   },
   "file_extension": ".py",
   "mimetype": "text/x-python",
   "name": "python",
   "nbconvert_exporter": "python",
   "pygments_lexer": "ipython3",
   "version": "3.7.3"
  }
 },
 "nbformat": 4,
 "nbformat_minor": 2
}
