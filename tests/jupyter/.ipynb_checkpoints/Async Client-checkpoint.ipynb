{
 "cells": [
  {
   "cell_type": "code",
   "execution_count": 1,
   "metadata": {},
   "outputs": [],
   "source": [
    "import aiohttp"
   ]
  },
  {
   "cell_type": "code",
   "execution_count": 41,
   "metadata": {},
   "outputs": [],
   "source": [
    "class Api:\n",
    "    def __init__(self, url=None):\n",
    "        if url.endswith('/'): url = url[:-1]\n",
    "        self.url = url\n",
    "        \n",
    "    async def post(self, payload):\n",
    "        async with aiohttp.ClientSession() as session:\n",
    "            async with session.post(self.url, json=payload) as resp:\n",
    "                return await resp.json()\n",
    "            \n",
    "\n",
    "    async def get(self, path):\n",
    "        async with aiohttp.ClientSession() as session:\n",
    "            async with session.get(f'{ self.url }/{ path }') as resp:\n",
    "                return await resp.json()\n",
    "\n",
    "api = Api('http://0.0.0.0:8085')            "
   ]
  },
  {
   "cell_type": "code",
   "execution_count": 116,
   "metadata": {},
   "outputs": [
    {
     "data": {
      "text/plain": [
       "{'error': False,\n",
       " 'data': {'id': 7, 'name': 'user-new-3000', 'dob': 'a446968800'},\n",
       " 'method': 'model-create'}"
      ]
     },
     "execution_count": 116,
     "metadata": {},
     "output_type": "execute_result"
    }
   ],
   "source": [
    "#Create\n",
    "payload = {\n",
    "    \"model\" : \"users\",\n",
    "    \"url\"   : \"crud/create\",\n",
    "    \"data\"  : {\n",
    "        \"name\": 'user-new-3000',\n",
    "        \"dob\" : 446968800\n",
    "    },\n",
    "}\n",
    "await api.post( payload )"
   ]
  },
  {
   "cell_type": "code",
   "execution_count": 111,
   "metadata": {},
   "outputs": [
    {
     "data": {
      "text/plain": [
       "{'error': True,\n",
       " 'data': \"'sqlite3.Cursor' object has no attribute 'fetch'\",\n",
       " 'method': 'sqlite-transaction'}"
      ]
     },
     "execution_count": 111,
     "metadata": {},
     "output_type": "execute_result"
    }
   ],
   "source": [
    "#Update\n",
    "payload = {\n",
    "    \"model\" : \"users\",\n",
    "    \"url\"   : \"crud/update\",\n",
    "    \"data\"  : {\n",
    "        \"query\" : { \"id\" : { \"ge\" : 27 } }, \n",
    "        \"form\": { \"name\" : \"toxic-777\" },\n",
    "    },\n",
    "}\n",
    "await api.post( payload )"
   ]
  },
  {
   "cell_type": "code",
   "execution_count": 68,
   "metadata": {},
   "outputs": [
    {
     "data": {
      "text/plain": [
       "{'error': False,\n",
       " 'data': [{'id': 32, 'name': 'toxic-777', 'dob': 446968800},\n",
       "  {'id': 33, 'name': 'toxic-777', 'dob': 446968800}],\n",
       " 'method': 'model-delete'}"
      ]
     },
     "execution_count": 68,
     "metadata": {},
     "output_type": "execute_result"
    }
   ],
   "source": [
    "#Delete\n",
    "payload = {\n",
    "    \"model\" : \"users\",\n",
    "    \"url\"   : \"crud/delete\",\n",
    "    \"data\"  : { \"id\" : { \"ge\" : 27 } },\n",
    "}\n",
    "await api.post( payload )"
   ]
  },
  {
   "cell_type": "code",
   "execution_count": 74,
   "metadata": {},
   "outputs": [
    {
     "data": {
      "text/plain": [
       "{'error': False,\n",
       " 'data': [{'id': 26, 'name': 'user-new-3000', 'dob': 446968800},\n",
       "  {'id': 25, 'name': 'user-new-3000', 'dob': 446968800}],\n",
       " 'method': 'model-find'}"
      ]
     },
     "execution_count": 74,
     "metadata": {},
     "output_type": "execute_result"
    }
   ],
   "source": [
    "#All\n",
    "payload = {\n",
    "    \"model\" : \"users\",\n",
    "    \"url\"   : \"crud/all\",\n",
    "    \"data\"  : {\n",
    "        \"fields\": ['*'],\n",
    "        \"page\"  : 1,\n",
    "        \"size\"  : 2,\n",
    "        \"sort\"  : '-id',\n",
    "    }\n",
    "}\n",
    "await api.post( payload )"
   ]
  },
  {
   "cell_type": "code",
   "execution_count": 83,
   "metadata": {},
   "outputs": [
    {
     "data": {
      "text/plain": [
       "{'error': False,\n",
       " 'data': [{'id': 1, 'name': 'user-1601265869', 'dob': 446968800},\n",
       "  {'id': 2, 'name': 'toxic', 'dob': 446968800}],\n",
       " 'method': 'model-find'}"
      ]
     },
     "execution_count": 83,
     "metadata": {},
     "output_type": "execute_result"
    }
   ],
   "source": [
    "#Find\n",
    "payload = {\n",
    "    \"model\" : \"users\",\n",
    "    \"url\"   : \"crud/find\",\n",
    "    \"data\"  : {\n",
    "        \"page\"  : 1,\n",
    "        \"size\"  : 5,\n",
    "        \"sort\"  : 'id',\n",
    "        \"fields\": ['id', 'name', 'dob'],\n",
    "        \"query\" : [{ \"id\" : { \"eq\" : 1 } }, \"or\", { \"id\" : { \"eq\" : 2 } }], \n",
    "    },\n",
    "}\n",
    "await api.post( payload )"
   ]
  },
  {
   "cell_type": "code",
   "execution_count": 94,
   "metadata": {},
   "outputs": [
    {
     "data": {
      "text/plain": [
       "{'error': True,\n",
       " 'data': 'fetchone() takes no arguments (2 given)',\n",
       " 'method': 'postgres-transaction'}"
      ]
     },
     "execution_count": 94,
     "metadata": {},
     "output_type": "execute_result"
    }
   ],
   "source": [
    "#Get\n",
    "payload = {\n",
    "    \"model\" : \"users\",\n",
    "    \"url\"   : \"crud/get\",\n",
    "    \"data\"  : {\n",
    "        \"fields\": ['name', 'dob'],\n",
    "        \"query\" : { \"id\" : { \"eq\" : 2 } }, \n",
    "    },    \n",
    "}\n",
    "await api.post( payload )"
   ]
  },
  {
   "cell_type": "code",
   "execution_count": 91,
   "metadata": {},
   "outputs": [
    {
     "data": {
      "text/plain": [
       "dict_keys(['models', 'urls', 'info', 'query', 'crud'])"
      ]
     },
     "execution_count": 91,
     "metadata": {},
     "output_type": "execute_result"
    }
   ],
   "source": [
    "api_info = await api.get('info')\n",
    "api_info.keys()"
   ]
  },
  {
   "cell_type": "code",
   "execution_count": 73,
   "metadata": {},
   "outputs": [
    {
     "name": "stdout",
     "output_type": "stream",
     "text": [
      "{\n",
      "    'model' : name,\n",
      "    'url'   : 'crud/create',\n",
      "    'data'  : {\n",
      "        'name': 'user-1',\n",
      "        'dob' : 446968800\n",
      "    },\n",
      "}\n"
     ]
    }
   ],
   "source": [
    "print( api_info['crud']['create'] )\n",
    "#print( api_info['query'] )"
   ]
  },
  {
   "cell_type": "code",
   "execution_count": null,
   "metadata": {},
   "outputs": [],
   "source": []
  },
  {
   "cell_type": "code",
   "execution_count": null,
   "metadata": {},
   "outputs": [],
   "source": []
  }
 ],
 "metadata": {
  "kernelspec": {
   "display_name": "Python 3",
   "language": "python",
   "name": "python3"
  },
  "language_info": {
   "codemirror_mode": {
    "name": "ipython",
    "version": 3
   },
   "file_extension": ".py",
   "mimetype": "text/x-python",
   "name": "python",
   "nbconvert_exporter": "python",
   "pygments_lexer": "ipython3",
   "version": "3.7.3"
  }
 },
 "nbformat": 4,
 "nbformat_minor": 2
}
