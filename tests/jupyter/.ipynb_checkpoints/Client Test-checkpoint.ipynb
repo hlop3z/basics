{
 "cells": [
  {
   "cell_type": "code",
   "execution_count": 36,
   "metadata": {},
   "outputs": [],
   "source": [
    "import requests"
   ]
  },
  {
   "cell_type": "code",
   "execution_count": 37,
   "metadata": {},
   "outputs": [],
   "source": [
    "api = lambda json : requests.post('http://0.0.0.0:8085', json=json)"
   ]
  },
  {
   "cell_type": "code",
   "execution_count": 96,
   "metadata": {},
   "outputs": [
    {
     "data": {
      "text/plain": [
       "{'error': False,\n",
       " 'data': [{'id': 3, 'name': 'toxic', 'dob': 446968800},\n",
       "  {'id': 2, 'name': 'toxic', 'dob': 446968800}],\n",
       " 'method': 'model-find'}"
      ]
     },
     "execution_count": 96,
     "metadata": {},
     "output_type": "execute_result"
    }
   ],
   "source": [
    "#All\n",
    "api({\n",
    "    \"url\" : \"users/all\",\n",
    "    \"model\" : \"users\",\n",
    "    \"data\": {\"page\": 1, \"sort\": '-dob', \"size\": 2 },\n",
    "}).json()"
   ]
  },
  {
   "cell_type": "code",
   "execution_count": 95,
   "metadata": {},
   "outputs": [
    {
     "data": {
      "text/plain": [
       "{'error': False,\n",
       " 'data': {'name': 'toxic', 'dob': 446968800},\n",
       " 'method': 'model-get'}"
      ]
     },
     "execution_count": 95,
     "metadata": {},
     "output_type": "execute_result"
    }
   ],
   "source": [
    "#Get\n",
    "api({\n",
    "    \"url\" : \"users/get\",\n",
    "    \"data\": {\n",
    "        \"fields\": ['name', 'dob'],\n",
    "        \"query\" : { \"id\" : { \"eq\" : 2 } }, \n",
    "    },\n",
    "}).json()"
   ]
  },
  {
   "cell_type": "code",
   "execution_count": 83,
   "metadata": {},
   "outputs": [
    {
     "data": {
      "text/plain": [
       "{'error': False,\n",
       " 'data': [{'id': 1, 'name': 'user-1601265869', 'dob': 446968800},\n",
       "  {'id': 2, 'name': 'toxic', 'dob': 446968800}],\n",
       " 'method': 'model-find'}"
      ]
     },
     "execution_count": 83,
     "metadata": {},
     "output_type": "execute_result"
    }
   ],
   "source": [
    "#Find\n",
    "api({\n",
    "    \"url\" : \"users/find\",\n",
    "    \"data\": {\n",
    "        \"page\"  : 1,\n",
    "        \"size\"  : 5,\n",
    "        \"sort\"  : 'id',\n",
    "        \"fields\": ['id', 'name', 'dob'],\n",
    "        \"query\" : { \"id\" : { \"be\" : (1, 2) } }, \n",
    "    },\n",
    "}).json()"
   ]
  },
  {
   "cell_type": "code",
   "execution_count": 85,
   "metadata": {},
   "outputs": [
    {
     "data": {
      "text/plain": [
       "{'error': False,\n",
       " 'data': [{'id': 26, 'name': 'user-new-3000', 'dob': 446968800},\n",
       "  {'id': 25, 'name': 'user-new-3000', 'dob': 446968800}],\n",
       " 'method': 'model-find'}"
      ]
     },
     "execution_count": 85,
     "metadata": {},
     "output_type": "execute_result"
    }
   ],
   "source": [
    "#List\n",
    "api({\n",
    "    \"url\" : \"users/list\",\n",
    "    \"data\": {\"page\": 1, \"query\": { \"id\": 0 } },\n",
    "}).json()"
   ]
  },
  {
   "cell_type": "code",
   "execution_count": 57,
   "metadata": {},
   "outputs": [
    {
     "data": {
      "text/plain": [
       "{'error': False,\n",
       " 'data': {'id': 26, 'name': 'user-new-3000', 'dob': 446968800},\n",
       " 'method': 'model-create'}"
      ]
     },
     "execution_count": 57,
     "metadata": {},
     "output_type": "execute_result"
    }
   ],
   "source": [
    "#Create\n",
    "api({\n",
    "    \"url\" : \"users/create\",\n",
    "    \"data\": {\n",
    "        \"name\": 'user-new-3000',\n",
    "        \"dob\" : 446968800\n",
    "    },\n",
    "}).json()"
   ]
  },
  {
   "cell_type": "code",
   "execution_count": null,
   "metadata": {},
   "outputs": [],
   "source": []
  },
  {
   "cell_type": "code",
   "execution_count": null,
   "metadata": {},
   "outputs": [],
   "source": [
    "async def notify_server_started_after_five_seconds():\n",
    "    await asyncio.sleep(5)\n",
    "    print('Server successfully started!')\n",
    "\n",
    "#app.add_task( notify_server_started_after_five_seconds() )"
   ]
  },
  {
   "cell_type": "code",
   "execution_count": 35,
   "metadata": {},
   "outputs": [
    {
     "name": "stdout",
     "output_type": "stream",
     "text": [
      "Hello Toxic\n"
     ]
    },
    {
     "data": {
      "text/plain": [
       "'Hello Toxic'"
      ]
     },
     "execution_count": 35,
     "metadata": {},
     "output_type": "execute_result"
    }
   ],
   "source": [
    "import functools\n",
    "\n",
    "\n",
    "def decorator(function):\n",
    "    @functools.wraps(function)\n",
    "    def wrapper_decorator(*args, **kwargs):\n",
    "        # Do something before\n",
    "        value = function(*args, **kwargs)\n",
    "        print(value)\n",
    "        # Do something after\n",
    "        return value\n",
    "    return wrapper_decorator\n",
    "\n",
    "\n",
    "\n",
    "@decorator\n",
    "def test(name):\n",
    "\treturn(f'Hello {name}')\n",
    "\n",
    "test('Toxic')"
   ]
  },
  {
   "cell_type": "code",
   "execution_count": null,
   "metadata": {},
   "outputs": [],
   "source": []
  }
 ],
 "metadata": {
  "kernelspec": {
   "display_name": "Python 3",
   "language": "python",
   "name": "python3"
  },
  "language_info": {
   "codemirror_mode": {
    "name": "ipython",
    "version": 3
   },
   "file_extension": ".py",
   "mimetype": "text/x-python",
   "name": "python",
   "nbconvert_exporter": "python",
   "pygments_lexer": "ipython3",
   "version": "3.7.3"
  }
 },
 "nbformat": 4,
 "nbformat_minor": 2
}
