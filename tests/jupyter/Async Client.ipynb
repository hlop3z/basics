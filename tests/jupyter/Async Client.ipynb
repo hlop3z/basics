{
 "cells": [
  {
   "cell_type": "code",
   "execution_count": 1,
   "metadata": {},
   "outputs": [],
   "source": [
    "import aiohttp"
   ]
  },
  {
   "cell_type": "code",
   "execution_count": 198,
   "metadata": {},
   "outputs": [],
   "source": [
    "class Api:\n",
    "    def __init__(self, url=None):\n",
    "        if url.endswith('/'): url = url[:-1]\n",
    "        self.url = url\n",
    "        \n",
    "    async def post(self, payload):\n",
    "        async with aiohttp.ClientSession() as session:\n",
    "            async with session.post(self.url, json=payload) as resp:\n",
    "                return await resp.json()\n",
    "            \n",
    "\n",
    "    async def get(self, path):\n",
    "        async with aiohttp.ClientSession() as session:\n",
    "            async with session.get(f'{ self.url }/{ path }') as resp:\n",
    "                return await resp.json()\n",
    "\n",
    "api = Api('http://0.0.0.0:8085') "
   ]
  },
  {
   "cell_type": "code",
   "execution_count": 196,
   "metadata": {},
   "outputs": [
    {
     "data": {
      "text/plain": [
       "{'error': False,\n",
       " 'data': {'id': 6, 'name': 'user-new-3000', 'dob': 446968800},\n",
       " 'method': 'model-create'}"
      ]
     },
     "execution_count": 196,
     "metadata": {},
     "output_type": "execute_result"
    }
   ],
   "source": [
    "#Create\n",
    "payload = {\n",
    "    \"model\" : \"users\",\n",
    "    \"url\"   : \"crud/create\",\n",
    "    \"data\"  : {\n",
    "        \"name\": 'user-new-3000',\n",
    "        \"dob\" : 446968800\n",
    "    },\n",
    "}\n",
    "await api.post( payload )"
   ]
  },
  {
   "cell_type": "code",
   "execution_count": 192,
   "metadata": {},
   "outputs": [
    {
     "data": {
      "text/plain": [
       "{'error': False,\n",
       " 'data': [{'id': 2, 'name': 'toxic-777', 'dob': 446968800},\n",
       "  {'id': 3, 'name': 'toxic-777', 'dob': 446968800},\n",
       "  {'id': 4, 'name': 'toxic-777', 'dob': 446968800},\n",
       "  {'id': 5, 'name': 'toxic-777', 'dob': 446968800},\n",
       "  {'id': 6, 'name': 'toxic-777', 'dob': 446968800}],\n",
       " 'method': 'model-update'}"
      ]
     },
     "execution_count": 192,
     "metadata": {},
     "output_type": "execute_result"
    }
   ],
   "source": [
    "#Update\n",
    "payload = {\n",
    "    \"model\" : \"users\",\n",
    "    \"url\"   : \"crud/update\",\n",
    "    \"data\"  : {\n",
    "        \"query\" : { \"id\" : { \"ge\" : 2 } }, \n",
    "        \"form\": { \"name\" : \"toxic-777\" },\n",
    "    },\n",
    "}\n",
    "await api.post( payload )"
   ]
  },
  {
   "cell_type": "code",
   "execution_count": 193,
   "metadata": {},
   "outputs": [
    {
     "data": {
      "text/plain": [
       "{'error': False,\n",
       " 'data': [{'id': 5, 'name': 'toxic-777', 'dob': 446968800},\n",
       "  {'id': 6, 'name': 'toxic-777', 'dob': 446968800}],\n",
       " 'method': 'model-delete'}"
      ]
     },
     "execution_count": 193,
     "metadata": {},
     "output_type": "execute_result"
    }
   ],
   "source": [
    "#Delete\n",
    "payload = {\n",
    "    \"model\" : \"users\",\n",
    "    \"url\"   : \"crud/delete\",\n",
    "    \"data\"  : { \"id\" : { \"ge\" : 5 } },\n",
    "}\n",
    "await api.post( payload )"
   ]
  },
  {
   "cell_type": "code",
   "execution_count": 197,
   "metadata": {},
   "outputs": [
    {
     "data": {
      "text/plain": [
       "{'error': False,\n",
       " 'data': [{'id': 6, 'name': 'user-new-3000', 'dob': 446968800},\n",
       "  {'id': 5, 'name': 'user-new-3000', 'dob': 446968800},\n",
       "  {'id': 4, 'name': 'toxic-777', 'dob': 446968800},\n",
       "  {'id': 3, 'name': 'toxic-777', 'dob': 446968800},\n",
       "  {'id': 2, 'name': 'toxic-777', 'dob': 446968800},\n",
       "  {'id': 1, 'name': 'user-new-3000', 'dob': 446968800}],\n",
       " 'method': 'model-find'}"
      ]
     },
     "execution_count": 197,
     "metadata": {},
     "output_type": "execute_result"
    }
   ],
   "source": [
    "#All\n",
    "payload = {\n",
    "    \"model\" : \"users\",\n",
    "    \"url\"   : \"crud/all\",\n",
    "    \"data\"  : {\n",
    "        \"fields\": ['*'],\n",
    "        \"page\"  : 1,\n",
    "        \"size\"  : 10,\n",
    "        \"sort\"  : '-id',\n",
    "    }\n",
    "}\n",
    "await api.post( payload )"
   ]
  },
  {
   "cell_type": "code",
   "execution_count": 212,
   "metadata": {},
   "outputs": [
    {
     "data": {
      "text/plain": [
       "{'data': [{'dob': 446968800, 'id': 1, 'name': 'user-new-3000'},\n",
       "  {'dob': 446968800, 'id': 2, 'name': 'toxic-777'}],\n",
       " 'error': False,\n",
       " 'method': 'model-find'}"
      ]
     },
     "execution_count": 212,
     "metadata": {},
     "output_type": "execute_result"
    }
   ],
   "source": [
    "#Find\n",
    "payload = {\n",
    "    \"model\" : \"users\",\n",
    "    \"url\"   : \"crud/find\",\n",
    "    \"data\"  : {\n",
    "        \"page\"  : 1,\n",
    "        \"size\"  : 5,\n",
    "        \"sort\"  : 'id',\n",
    "        \"fields\": ['id', 'name', 'dob'],\n",
    "        \"query\" : [{ \"id\" : { \"eq\" : 1 } }, \"or\", { \"id\" : { \"eq\" : 2 } }], \n",
    "    },\n",
    "}\n",
    "await api.post( payload )"
   ]
  },
  {
   "cell_type": "code",
   "execution_count": 213,
   "metadata": {},
   "outputs": [
    {
     "data": {
      "text/plain": [
       "{'data': {'dob': 446968800, 'name': 'toxic-777'},\n",
       " 'error': False,\n",
       " 'method': 'model-get'}"
      ]
     },
     "execution_count": 213,
     "metadata": {},
     "output_type": "execute_result"
    }
   ],
   "source": [
    "#Get\n",
    "payload = {\n",
    "    \"model\" : \"users\",\n",
    "    \"url\"   : \"crud/get\",\n",
    "    \"data\"  : {\n",
    "        \"fields\": ['name', 'dob'],\n",
    "        \"query\" : { \"id\" : { \"eq\" : 2 } }, \n",
    "    },    \n",
    "}\n",
    "await api.post( payload )"
   ]
  },
  {
   "cell_type": "code",
   "execution_count": 207,
   "metadata": {},
   "outputs": [
    {
     "name": "stdout",
     "output_type": "stream",
     "text": [
      "dict_keys(['info', 'models', 'urls'])\n"
     ]
    }
   ],
   "source": [
    "api_info = await api.get('info')\n",
    "print( api_info.keys() )"
   ]
  },
  {
   "cell_type": "code",
   "execution_count": 206,
   "metadata": {},
   "outputs": [
    {
     "data": {
      "text/plain": [
       "['users/custom',\n",
       " 'users/list',\n",
       " 'crud/create',\n",
       " 'crud/delete',\n",
       " 'crud/update',\n",
       " 'crud/all',\n",
       " 'crud/find',\n",
       " 'crud/get']"
      ]
     },
     "execution_count": 206,
     "metadata": {},
     "output_type": "execute_result"
    }
   ],
   "source": [
    "api_info['urls']"
   ]
  },
  {
   "cell_type": "code",
   "execution_count": 188,
   "metadata": {},
   "outputs": [
    {
     "data": {
      "text/plain": [
       "{'error': False,\n",
       " 'data': {'query': {'id': {'ge': 2}}, 'form': {'name': 'toxic-777'}},\n",
       " 'method': 'custom-method'}"
      ]
     },
     "execution_count": 188,
     "metadata": {},
     "output_type": "execute_result"
    }
   ],
   "source": [
    "#Custom-Function\n",
    "payload = {\n",
    "    \"url\"   : \"users/custom\",\n",
    "    \"data\"  : {\n",
    "        \"query\" : { \"id\" : { \"ge\" : 2 } }, \n",
    "        \"form\": { \"name\" : \"toxic-777\" },\n",
    "    },\n",
    "}\n",
    "await api.post( payload )"
   ]
  },
  {
   "cell_type": "code",
   "execution_count": 189,
   "metadata": {},
   "outputs": [
    {
     "data": {
      "text/plain": [
       "{'error': False,\n",
       " 'data': [{'id': 4, 'name': 'toxic-777', 'dob': 446968800},\n",
       "  {'id': 3, 'name': 'toxic-777', 'dob': 446968800},\n",
       "  {'id': 2, 'name': 'toxic-777', 'dob': 446968800},\n",
       "  {'id': 1, 'name': 'user-new-3000', 'dob': 446968800}],\n",
       " 'method': 'custom-list'}"
      ]
     },
     "execution_count": 189,
     "metadata": {},
     "output_type": "execute_result"
    }
   ],
   "source": [
    "#Custom-List\n",
    "payload = {\n",
    "    \"url\"   : \"users/list\",\n",
    "    \"data\"  : { \"search\" : \"%-%\", \"page\" : 1, \"size\" : 100 },\n",
    "}\n",
    "await api.post( payload )"
   ]
  },
  {
   "cell_type": "code",
   "execution_count": null,
   "metadata": {},
   "outputs": [],
   "source": []
  }
 ],
 "metadata": {
  "kernelspec": {
   "display_name": "Python 3",
   "language": "python",
   "name": "python3"
  },
  "language_info": {
   "codemirror_mode": {
    "name": "ipython",
    "version": 3
   },
   "file_extension": ".py",
   "mimetype": "text/x-python",
   "name": "python",
   "nbconvert_exporter": "python",
   "pygments_lexer": "ipython3",
   "version": "3.7.3"
  }
 },
 "nbformat": 4,
 "nbformat_minor": 2
}
